{
 "cells": [
  {
   "cell_type": "code",
   "execution_count": 26,
   "metadata": {},
   "outputs": [
    {
     "name": "stdout",
     "output_type": "stream",
     "text": [
      "Date Time          01.01.2009 00:10:00\n",
      "p (mbar)                        996.52\n",
      "T (degC)                         -8.02\n",
      "Tpot (K)                         265.4\n",
      "Tdew (degC)                       -8.9\n",
      "rh (%)                            93.3\n",
      "VPmax (mbar)                      3.33\n",
      "VPact (mbar)                      3.11\n",
      "VPdef (mbar)                      0.22\n",
      "sh (g/kg)                         1.94\n",
      "H2OC (mmol/mol)                   3.12\n",
      "rho (g/m**3)                   1307.75\n",
      "wv (m/s)                          1.03\n",
      "max. wv (m/s)                     1.75\n",
      "wd (deg)                         152.3\n",
      "Name: 0, dtype: object\n",
      "['Date Time' 'p (mbar)' 'T (degC)' 'Tpot (K)' 'Tdew (degC)' 'rh (%)'\n",
      " 'VPmax (mbar)' 'VPact (mbar)' 'VPdef (mbar)' 'sh (g/kg)'\n",
      " 'H2OC (mmol/mol)' 'rho (g/m**3)' 'wv (m/s)' 'max. wv (m/s)' 'wd (deg)']\n",
      "0        -8.02\n",
      "1        -8.41\n",
      "2        -8.51\n",
      "3        -8.31\n",
      "4        -8.27\n",
      "5        -8.05\n",
      "6        -7.62\n",
      "7        -7.62\n",
      "8        -7.91\n",
      "9        -8.43\n",
      "10       -8.76\n",
      "11       -8.88\n",
      "12       -8.85\n",
      "13       -8.83\n",
      "14       -8.66\n",
      "15       -8.66\n",
      "16       -8.70\n",
      "17       -8.81\n",
      "18       -8.84\n",
      "19       -8.94\n",
      "20       -8.94\n",
      "21       -8.86\n",
      "22       -8.99\n",
      "23       -9.05\n",
      "24       -9.23\n",
      "25       -9.49\n",
      "26       -9.50\n",
      "27       -9.35\n",
      "28       -9.47\n",
      "29       -9.63\n",
      "          ... \n",
      "420521   -0.98\n",
      "420522   -1.40\n",
      "420523   -1.47\n",
      "420524   -1.61\n",
      "420525   -1.65\n",
      "420526   -1.52\n",
      "420527   -1.40\n",
      "420528   -2.15\n",
      "420529   -3.19\n",
      "420530   -3.30\n",
      "420531   -3.46\n",
      "420532   -3.09\n",
      "420533   -2.75\n",
      "420534   -2.61\n",
      "420535   -2.51\n",
      "420536   -2.48\n",
      "420537   -2.48\n",
      "420538   -2.59\n",
      "420539   -2.89\n",
      "420540   -3.22\n",
      "420541   -4.08\n",
      "420542   -4.45\n",
      "420543   -4.09\n",
      "420544   -3.76\n",
      "420545   -3.93\n",
      "420546   -4.05\n",
      "420547   -3.35\n",
      "420548   -3.16\n",
      "420549   -4.23\n",
      "420550   -4.82\n",
      "Name: T (degC), Length: 420551, dtype: float64\n"
     ]
    }
   ],
   "source": [
    "import os\n",
    "import pandas as pd\n",
    "\n",
    "fdir = '/home/xuhao/文档/Untitled Folder 1/jena_climate'\n",
    "fname = os.path.join(fdir,'jena_climate_2009_2016.csv.zip')\n",
    "\n",
    "data = pd.read_csv(fname,encoding='utf-8')\n",
    "print(data.loc[0])\n",
    "# lines = data.split('\\n')\n",
    "# header = lines[0].split(',')\n",
    "# print(header)\n",
    "# print(len(lines))\n",
    "print(data.columns.values)\n",
    "print(data.iloc[:,2])"
   ]
  },
  {
   "cell_type": "code",
   "execution_count": 32,
   "metadata": {},
   "outputs": [
    {
     "data": {
      "image/png": "[encoded data removed]",
      "text/plain": [
       "<Figure size 432x288 with 1 Axes>"
      ]
     },
     "metadata": {
      "needs_background": "light"
     },
     "output_type": "display_data"
    }
   ],
   "source": [
    "from matplotlib import pyplot as plt\n",
    "temp = data.iloc[:,2]\n",
    "plt.plot(range(len(temp)),temp)\n",
    "plt.show()"
   ]
  },
  {
   "cell_type": "code",
   "execution_count": null,
   "metadata": {},
   "outputs": [],
   "source": [
    "mean = data.loc[:200000,:].mean()\n",
    "print(mean)"
   ]
  },
  {
   "cell_type": "code",
   "execution_count": null,
   "metadata": {},
   "outputs": [],
   "source": [
    "print(data.iloc[:200000,:])"
   ]
  },
  {
   "cell_type": "code",
   "execution_count": null,
   "metadata": {},
   "outputs": [],
   "source": []
  }
 ],
 "metadata": {
  "kernelspec": {
   "display_name": "Python 3",
   "language": "python",
   "name": "python3"
  },
  "language_info": {
   "codemirror_mode": {
    "name": "ipython",
    "version": 3
   },
   "file_extension": ".py",
   "mimetype": "text/x-python",
   "name": "python",
   "nbconvert_exporter": "python",
   "pygments_lexer": "ipython3",
   "version": "3.7.6"
  }
 },
 "nbformat": 4,
 "nbformat_minor": 2
}
