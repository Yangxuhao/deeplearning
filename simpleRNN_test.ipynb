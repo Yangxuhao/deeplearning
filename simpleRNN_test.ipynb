{
 "cells": [
  {
   "cell_type": "code",
   "execution_count": 2,
   "metadata": {},
   "outputs": [],
   "source": [
    "from keras.models import Sequential\n",
    "from keras.layers import Embedding,SimpleRNN"
   ]
  },
  {
   "cell_type": "code",
   "execution_count": 3,
   "metadata": {},
   "outputs": [
    {
     "name": "stdout",
     "output_type": "stream",
     "text": [
      "Model: \"sequential\"\n",
      "_________________________________________________________________\n",
      "Layer (type)                 Output Shape              Param #   \n",
      "=================================================================\n",
      "embedding (Embedding)        (None, None, 32)          320000    \n",
      "_________________________________________________________________\n",
      "simple_rnn (SimpleRNN)       (None, None, 32)          2080      \n",
      "=================================================================\n",
      "Total params: 322,080\n",
      "Trainable params: 322,080\n",
      "Non-trainable params: 0\n",
      "_________________________________________________________________\n"
     ]
    }
   ],
   "source": [
    "model = Sequential()\n",
    "model.add(Embedding(10000,32))\n",
    "model.add(SimpleRNN(32,return_sequences=True))\n",
    "model.summary()"
   ]
  },
  {
   "cell_type": "code",
   "execution_count": 6,
   "metadata": {},
   "outputs": [
    {
     "name": "stdout",
     "output_type": "stream",
     "text": [
      "Loading data...\n",
      "25000 train sequences\n",
      "25000 test sequences\n",
      "Pad sequences (samples x time)\n",
      "input_train shape: (25000, 500)\n",
      "input_test shape: (25000, 500)\n"
     ]
    }
   ],
   "source": [
    "#imdb数据处理\n",
    "from keras.datasets import imdb\n",
    "from keras.preprocessing import sequence\n",
    "max_features = 10000 \n",
    "maxlen = 500 \n",
    "batch_size = 32\n",
    "print('Loading data...')\n",
    "(input_train, y_train), (input_test, y_test) = imdb.load_data(\n",
    " num_words=max_features)\n",
    "print(len(input_train), 'train sequences')\n",
    "print(len(input_test), 'test sequences')\n",
    "print('Pad sequences (samples x time)')\n",
    "input_train = sequence.pad_sequences(input_train, maxlen=maxlen)\n",
    "input_test = sequence.pad_sequences(input_test, maxlen=maxlen)\n",
    "print('input_train shape:', input_train.shape)\n",
    "print('input_test shape:', input_test.shape)"
   ]
  },
  {
   "cell_type": "code",
   "execution_count": 7,
   "metadata": {},
   "outputs": [],
   "source": [
    "from keras.layers import Dense\n"
   ]
  },
  {
   "cell_type": "code",
   "execution_count": 10,
   "metadata": {},
   "outputs": [
    {
     "name": "stdout",
     "output_type": "stream",
     "text": [
      "Epoch 1/10\n",
      "157/157 [==============================] - 25s 160ms/step - loss: 0.6013 - acc: 0.6574 - val_loss: 0.5273 - val_acc: 0.7426\n",
      "Epoch 2/10\n",
      "157/157 [==============================] - 25s 160ms/step - loss: 0.3613 - acc: 0.8482 - val_loss: 0.3556 - val_acc: 0.8518\n",
      "Epoch 3/10\n",
      "157/157 [==============================] - 25s 162ms/step - loss: 0.2709 - acc: 0.8956 - val_loss: 0.3476 - val_acc: 0.8578\n",
      "Epoch 4/10\n",
      "157/157 [==============================] - 25s 158ms/step - loss: 0.2187 - acc: 0.9183 - val_loss: 0.3718 - val_acc: 0.8576\n",
      "Epoch 5/10\n",
      "157/157 [==============================] - 25s 160ms/step - loss: 0.1579 - acc: 0.9425 - val_loss: 0.4507 - val_acc: 0.8452\n",
      "Epoch 6/10\n",
      "157/157 [==============================] - 25s 160ms/step - loss: 0.1079 - acc: 0.9624 - val_loss: 0.5003 - val_acc: 0.8146\n",
      "Epoch 7/10\n",
      "157/157 [==============================] - 26s 163ms/step - loss: 0.0768 - acc: 0.9747 - val_loss: 0.4652 - val_acc: 0.8362\n",
      "Epoch 8/10\n",
      "157/157 [==============================] - 25s 161ms/step - loss: 0.0478 - acc: 0.9849 - val_loss: 0.5157 - val_acc: 0.8330\n",
      "Epoch 9/10\n",
      "157/157 [==============================] - 25s 162ms/step - loss: 0.0337 - acc: 0.9903 - val_loss: 0.5923 - val_acc: 0.8256\n",
      "Epoch 10/10\n",
      "157/157 [==============================] - 25s 162ms/step - loss: 0.0179 - acc: 0.9948 - val_loss: 0.6454 - val_acc: 0.8112\n"
     ]
    }
   ],
   "source": [
    "model = Sequential()\n",
    "model.add(Embedding(max_features,32))\n",
    "model.add(SimpleRNN(32)) \n",
    "model.add(Dense(1, activation='sigmoid'))\n",
    "model.compile(optimizer='rmsprop', loss='binary_crossentropy', metrics=['acc'])\n",
    "history = model.fit(input_train, y_train,\n",
    "                     epochs=10, \n",
    "                     batch_size=128,\n",
    "                     validation_split=0.2)"
   ]
  },
  {
   "cell_type": "code",
   "execution_count": null,
   "metadata": {},
   "outputs": [],
   "source": []
  }
 ],
 "metadata": {
  "kernelspec": {
   "display_name": "Python 3",
   "language": "python",
   "name": "python3"
  },
  "language_info": {
   "codemirror_mode": {
    "name": "ipython",
    "version": 3
   },
   "file_extension": ".py",
   "mimetype": "text/x-python",
   "name": "python",
   "nbconvert_exporter": "python",
   "pygments_lexer": "ipython3",
   "version": "3.7.6"
  }
 },
 "nbformat": 4,
 "nbformat_minor": 2
}
