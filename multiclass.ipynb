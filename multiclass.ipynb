{
 "cells": [
  {
   "cell_type": "code",
   "execution_count": 1,
   "metadata": {},
   "outputs": [
    {
     "data": {
      "text/plain": [
       "'\\n本节你会构建一个网络，将路透社新闻划分为 46 个互斥的主题。因为有多个类别，所以\\n这是多分类（multiclass classification）问题的一个例子。因为每个数据点只能划分到一个类别，\\n所以更具体地说，这是单标签、多分类（single-label, multiclass classification）问题的一个例\\n子。如果每个数据点可以划分到多个类别（主题），那它就是一个多标签、多分类（multilabel, \\nmulticlass classification）问题。\\n'"
      ]
     },
     "execution_count": 1,
     "metadata": {},
     "output_type": "execute_result"
    }
   ],
   "source": [
    "'''\n",
    "本节你会构建一个网络，将路透社新闻划分为 46 个互斥的主题。因为有多个类别，所以\n",
    "这是多分类（multiclass classification）问题的一个例子。因为每个数据点只能划分到一个类别，\n",
    "所以更具体地说，这是单标签、多分类（single-label, multiclass classification）问题的一个例\n",
    "子。如果每个数据点可以划分到多个类别（主题），那它就是一个多标签、多分类（multilabel, \n",
    "multiclass classification）问题。\n",
    "'''"
   ]
  },
  {
   "cell_type": "code",
   "execution_count": 2,
   "metadata": {},
   "outputs": [
    {
     "name": "stdout",
     "output_type": "stream",
     "text": [
      "Downloading data from https://storage.googleapis.com/tensorflow/tf-keras-datasets/reuters.npz\n",
      "2113536/2110848 [==============================] - 5s 2us/step\n"
     ]
    }
   ],
   "source": [
    "from keras.datasets import reuters\n",
    "(train_data, train_labels), (test_data, test_labels) = reuters.load_data(num_words=10000)"
   ]
  },
  {
   "cell_type": "code",
   "execution_count": 3,
   "metadata": {},
   "outputs": [
    {
     "data": {
      "text/plain": [
       "8982"
      ]
     },
     "execution_count": 3,
     "metadata": {},
     "output_type": "execute_result"
    }
   ],
   "source": [
    "len(train_data)"
   ]
  },
  {
   "cell_type": "code",
   "execution_count": 4,
   "metadata": {},
   "outputs": [
    {
     "data": {
      "text/plain": [
       "2246"
      ]
     },
     "execution_count": 4,
     "metadata": {},
     "output_type": "execute_result"
    }
   ],
   "source": [
    "len(test_data)"
   ]
  },
  {
   "cell_type": "code",
   "execution_count": 5,
   "metadata": {},
   "outputs": [
    {
     "data": {
      "text/plain": [
       "[1,\n",
       " 245,\n",
       " 273,\n",
       " 207,\n",
       " 156,\n",
       " 53,\n",
       " 74,\n",
       " 160,\n",
       " 26,\n",
       " 14,\n",
       " 46,\n",
       " 296,\n",
       " 26,\n",
       " 39,\n",
       " 74,\n",
       " 2979,\n",
       " 3554,\n",
       " 14,\n",
       " 46,\n",
       " 4689,\n",
       " 4329,\n",
       " 86,\n",
       " 61,\n",
       " 3499,\n",
       " 4795,\n",
       " 14,\n",
       " 61,\n",
       " 451,\n",
       " 4329,\n",
       " 17,\n",
       " 12]"
      ]
     },
     "execution_count": 5,
     "metadata": {},
     "output_type": "execute_result"
    }
   ],
   "source": [
    " train_data[10]"
   ]
  },
  {
   "cell_type": "code",
   "execution_count": 7,
   "metadata": {},
   "outputs": [],
   "source": [
    "import numpy as np\n",
    "def vectorize_sequences(sequences, dimension=10000):\n",
    "     results = np.zeros((len(sequences), dimension))\n",
    "     for i, sequence in enumerate(sequences):\n",
    "         results[i, sequence] = 1.\n",
    "     return results\n",
    "x_train = vectorize_sequences(train_data) \n",
    "x_test = vectorize_sequences(test_data) "
   ]
  },
  {
   "cell_type": "code",
   "execution_count": 10,
   "metadata": {},
   "outputs": [],
   "source": [
    "def to_one_hot(labels, dimension=46):\n",
    "     results = np.zeros((len(labels), dimension))\n",
    "     for i, label in enumerate(labels):\n",
    "         results[i, label] = 1.\n",
    "     return results\n",
    "one_hot_train_labels = to_one_hot(train_labels) \n",
    "one_hot_test_labels = to_one_hot(test_labels) \n"
   ]
  },
  {
   "cell_type": "code",
   "execution_count": 14,
   "metadata": {},
   "outputs": [
    {
     "data": {
      "text/plain": [
       "array([0., 0., 0., 0., 0., 0., 0., 0., 0., 0., 0., 0., 0., 0., 0., 0., 0.,\n",
       "       0., 0., 0., 1., 0., 0., 0., 0., 0., 0., 0., 0., 0., 0., 0., 0., 0.,\n",
       "       0., 0., 0., 0., 0., 0., 0., 0., 0., 0., 0., 0.])"
      ]
     },
     "execution_count": 14,
     "metadata": {},
     "output_type": "execute_result"
    }
   ],
   "source": [
    "one_hot_train_labels[45]"
   ]
  },
  {
   "cell_type": "code",
   "execution_count": 15,
   "metadata": {},
   "outputs": [],
   "source": [
    "from keras import models\n",
    "from keras import layers\n",
    "model = models.Sequential()\n",
    "model.add(layers.Dense(64, activation='relu', input_shape=(10000,)))\n",
    "model.add(layers.Dense(64, activation='relu'))\n",
    "model.add(layers.Dense(46, activation='softmax'))"
   ]
  },
  {
   "cell_type": "code",
   "execution_count": 16,
   "metadata": {},
   "outputs": [],
   "source": [
    "model.compile(optimizer='rmsprop',\n",
    "              loss='categorical_crossentropy',\n",
    "              metrics=['accuracy'])"
   ]
  },
  {
   "cell_type": "code",
   "execution_count": 17,
   "metadata": {},
   "outputs": [],
   "source": [
    "x_val = x_train[:1000]\n",
    "partial_x_train = x_train[1000:]\n",
    "y_val = one_hot_train_labels[:1000]\n",
    "partial_y_train = one_hot_train_labels[1000:]"
   ]
  },
  {
   "cell_type": "code",
   "execution_count": 18,
   "metadata": {},
   "outputs": [
    {
     "name": "stdout",
     "output_type": "stream",
     "text": [
      "Epoch 1/20\n",
      "16/16 [==============================] - 1s 44ms/step - loss: 2.5559 - accuracy: 0.5690 - val_loss: 1.6739 - val_accuracy: 0.6580\n",
      "Epoch 2/20\n",
      "16/16 [==============================] - 1s 33ms/step - loss: 1.3596 - accuracy: 0.7167 - val_loss: 1.2711 - val_accuracy: 0.7270\n",
      "Epoch 3/20\n",
      "16/16 [==============================] - 1s 33ms/step - loss: 1.0207 - accuracy: 0.7779 - val_loss: 1.1144 - val_accuracy: 0.7560\n",
      "Epoch 4/20\n",
      "16/16 [==============================] - 1s 33ms/step - loss: 0.8113 - accuracy: 0.8270 - val_loss: 1.0226 - val_accuracy: 0.7780\n",
      "Epoch 5/20\n",
      "16/16 [==============================] - 1s 34ms/step - loss: 0.6564 - accuracy: 0.8559 - val_loss: 0.9752 - val_accuracy: 0.7900\n",
      "Epoch 6/20\n",
      "16/16 [==============================] - 1s 46ms/step - loss: 0.5337 - accuracy: 0.8821 - val_loss: 0.9305 - val_accuracy: 0.8000\n",
      "Epoch 7/20\n",
      "16/16 [==============================] - 1s 34ms/step - loss: 0.4283 - accuracy: 0.9072 - val_loss: 0.8946 - val_accuracy: 0.8180\n",
      "Epoch 8/20\n",
      "16/16 [==============================] - 1s 34ms/step - loss: 0.3494 - accuracy: 0.9233 - val_loss: 0.8937 - val_accuracy: 0.8120\n",
      "Epoch 9/20\n",
      "16/16 [==============================] - 1s 43ms/step - loss: 0.2890 - accuracy: 0.9377 - val_loss: 0.9043 - val_accuracy: 0.8130\n",
      "Epoch 10/20\n",
      "16/16 [==============================] - 1s 43ms/step - loss: 0.2418 - accuracy: 0.9446 - val_loss: 0.9148 - val_accuracy: 0.8160\n",
      "Epoch 11/20\n",
      "16/16 [==============================] - 1s 33ms/step - loss: 0.2105 - accuracy: 0.9470 - val_loss: 0.9154 - val_accuracy: 0.8200\n",
      "Epoch 12/20\n",
      "16/16 [==============================] - 1s 36ms/step - loss: 0.1857 - accuracy: 0.9521 - val_loss: 0.9306 - val_accuracy: 0.8110\n",
      "Epoch 13/20\n",
      "16/16 [==============================] - 1s 47ms/step - loss: 0.1657 - accuracy: 0.9530 - val_loss: 0.9441 - val_accuracy: 0.8170\n",
      "Epoch 14/20\n",
      "16/16 [==============================] - 1s 45ms/step - loss: 0.1540 - accuracy: 0.9526 - val_loss: 0.9558 - val_accuracy: 0.8110\n",
      "Epoch 15/20\n",
      "16/16 [==============================] - 1s 35ms/step - loss: 0.1465 - accuracy: 0.9535 - val_loss: 0.9827 - val_accuracy: 0.8090\n",
      "Epoch 16/20\n",
      "16/16 [==============================] - 1s 38ms/step - loss: 0.1307 - accuracy: 0.9559 - val_loss: 1.0329 - val_accuracy: 0.8090\n",
      "Epoch 17/20\n",
      "16/16 [==============================] - 1s 34ms/step - loss: 0.1247 - accuracy: 0.9554 - val_loss: 1.0682 - val_accuracy: 0.8030\n",
      "Epoch 18/20\n",
      "16/16 [==============================] - 1s 45ms/step - loss: 0.1202 - accuracy: 0.9563 - val_loss: 1.0233 - val_accuracy: 0.8120\n",
      "Epoch 19/20\n",
      "16/16 [==============================] - 1s 44ms/step - loss: 0.1175 - accuracy: 0.9582 - val_loss: 1.0815 - val_accuracy: 0.8110\n",
      "Epoch 20/20\n",
      "16/16 [==============================] - 1s 41ms/step - loss: 0.1108 - accuracy: 0.9554 - val_loss: 1.0634 - val_accuracy: 0.8120\n"
     ]
    }
   ],
   "source": [
    "history = model.fit( partial_x_train,\n",
    "                     partial_y_train,\n",
    "                     epochs=20,\n",
    "                     batch_size=512,\n",
    "                     validation_data=(x_val, y_val))"
   ]
  },
  {
   "cell_type": "code",
   "execution_count": 20,
   "metadata": {},
   "outputs": [
    {
     "data": {
      "image/png": "[encoded data removed]",
      "text/plain": [
       "<Figure size 432x288 with 1 Axes>"
      ]
     },
     "metadata": {
      "needs_background": "light"
     },
     "output_type": "display_data"
    }
   ],
   "source": [
    "import matplotlib.pyplot as plt\n",
    "%matplotlib inline\n",
    "loss = history.history['loss']\n",
    "val_loss = history.history['val_loss']\n",
    "epochs = range(1, len(loss) + 1)\n",
    "plt.plot(epochs, loss, 'bo', label='Training loss')\n",
    "plt.plot(epochs, val_loss, 'b', label='Validation loss')\n",
    "plt.title('Training and validation loss')\n",
    "plt.xlabel('Epochs')\n",
    "plt.ylabel('Loss')\n",
    "plt.legend()\n",
    "plt.show()"
   ]
  },
  {
   "cell_type": "code",
   "execution_count": 23,
   "metadata": {
    "scrolled": true
   },
   "outputs": [
    {
     "data": {
      "image/png": "[encoded data removed]",
      "text/plain": [
       "<Figure size 432x288 with 1 Axes>"
      ]
     },
     "metadata": {
      "needs_background": "light"
     },
     "output_type": "display_data"
    }
   ],
   "source": [
    "plt.clf() \n",
    "acc = history.history['accuracy']\n",
    "val_acc = history.history['val_accuracy']\n",
    "plt.plot(epochs, acc, 'bo', label='Training acc')\n",
    "plt.plot(epochs, val_acc, 'b', label='Validation acc')\n",
    "plt.title('Training and validation accuracy')\n",
    "plt.xlabel('Epochs')\n",
    "plt.ylabel('Accuracy')\n",
    "plt.legend()\n",
    "plt.show()"
   ]
  },
  {
   "cell_type": "code",
   "execution_count": 24,
   "metadata": {},
   "outputs": [
    {
     "name": "stdout",
     "output_type": "stream",
     "text": [
      "Epoch 1/9\n",
      "16/16 [==============================] - 1s 41ms/step - loss: 2.7475 - accuracy: 0.5152 - val_loss: 1.8120 - val_accuracy: 0.6500\n",
      "Epoch 2/9\n",
      "16/16 [==============================] - 1s 33ms/step - loss: 1.4513 - accuracy: 0.7042 - val_loss: 1.3278 - val_accuracy: 0.7190\n",
      "Epoch 3/9\n",
      "16/16 [==============================] - 1s 34ms/step - loss: 1.0442 - accuracy: 0.7800 - val_loss: 1.1442 - val_accuracy: 0.7590\n",
      "Epoch 4/9\n",
      "16/16 [==============================] - 1s 33ms/step - loss: 0.8151 - accuracy: 0.8299 - val_loss: 1.0375 - val_accuracy: 0.7840\n",
      "Epoch 5/9\n",
      "16/16 [==============================] - 1s 35ms/step - loss: 0.6490 - accuracy: 0.8653 - val_loss: 0.9809 - val_accuracy: 0.7970\n",
      "Epoch 6/9\n",
      "16/16 [==============================] - 1s 33ms/step - loss: 0.5188 - accuracy: 0.8951 - val_loss: 0.9570 - val_accuracy: 0.8040\n",
      "Epoch 7/9\n",
      "16/16 [==============================] - 1s 35ms/step - loss: 0.4194 - accuracy: 0.9128 - val_loss: 0.9073 - val_accuracy: 0.8160\n",
      "Epoch 8/9\n",
      "16/16 [==============================] - 1s 34ms/step - loss: 0.3420 - accuracy: 0.9290 - val_loss: 0.9662 - val_accuracy: 0.7970\n",
      "Epoch 9/9\n",
      "16/16 [==============================] - 1s 35ms/step - loss: 0.2848 - accuracy: 0.9384 - val_loss: 0.9066 - val_accuracy: 0.8160\n",
      "71/71 [==============================] - 0s 3ms/step - loss: 0.9912 - accuracy: 0.7850\n"
     ]
    }
   ],
   "source": [
    "model = models.Sequential()\n",
    "model.add(layers.Dense(64, activation='relu', input_shape=(10000,)))\n",
    "model.add(layers.Dense(64, activation='relu'))\n",
    "model.add(layers.Dense(46, activation='softmax'))\n",
    "model.compile(optimizer='rmsprop',\n",
    "             loss='categorical_crossentropy',\n",
    "             metrics=['accuracy'])\n",
    "model.fit(partial_x_train,\n",
    "         partial_y_train,\n",
    "         epochs=9,\n",
    "         batch_size=512,\n",
    "         validation_data=(x_val, y_val))\n",
    "results = model.evaluate(x_test, one_hot_test_labels)"
   ]
  },
  {
   "cell_type": "code",
   "execution_count": 25,
   "metadata": {},
   "outputs": [
    {
     "data": {
      "text/plain": [
       "[0.9912410378456116, 0.7849510312080383]"
      ]
     },
     "execution_count": 25,
     "metadata": {},
     "output_type": "execute_result"
    }
   ],
   "source": [
    "results"
   ]
  },
  {
   "cell_type": "code",
   "execution_count": null,
   "metadata": {},
   "outputs": [],
   "source": [
    "'''\n",
    "如果要对 N 个类别的数据点进行分类，网络的最后一层应该是大小为 N 的 Dense 层。\n",
    " 对于单标签、多分类问题，网络的最后一层应该使用 softmax 激活，这样可以输出在 N\n",
    "个输出类别上的概率分布。\n",
    " 这种问题的损失函数几乎总是应该使用分类交叉熵。它将网络输出的概率分布与目标的\n",
    "真实分布之间的距离最小化。\n",
    " 处理多分类问题的标签有两种方法。\n",
    " 通过分类编码（也叫 one-hot 编码）对标签进行编码，然后使用 categorical_\n",
    "crossentropy 作为损失函数。\n",
    " 将标签编码为整数，然后使用 sparse_categorical_crossentropy 损失函数。\n",
    " 如果你需要将数据划分到许多类别中，应该避免使用太小的中间层，以免在网络中造成\n",
    "信息瓶颈。\n",
    "'''"
   ]
  }
 ],
 "metadata": {
  "kernelspec": {
   "display_name": "Python 3",
   "language": "python",
   "name": "python3"
  },
  "language_info": {
   "codemirror_mode": {
    "name": "ipython",
    "version": 3
   },
   "file_extension": ".py",
   "mimetype": "text/x-python",
   "name": "python",
   "nbconvert_exporter": "python",
   "pygments_lexer": "ipython3",
   "version": "3.7.6"
  }
 },
 "nbformat": 4,
 "nbformat_minor": 2
}
